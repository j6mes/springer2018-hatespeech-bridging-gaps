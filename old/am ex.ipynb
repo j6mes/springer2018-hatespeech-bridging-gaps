{
 "cells": [
  {
   "cell_type": "code",
   "execution_count": 1,
   "metadata": {
    "collapsed": false
   },
   "outputs": [
    {
     "name": "stderr",
     "output_type": "stream",
     "text": [
      "Generating features for racism: 0it [00:00, ?it/s]\n",
      "Generating features for racism: 0it [00:00, ?it/s]\n",
      "Generating features for racism: 100%|██████████| 98/98 [00:00<00:00, 3153.76it/s]\n",
      "Generating features for sexism: 0it [00:00, ?it/s]\n",
      "Generating features for sexism: 0it [00:00, ?it/s]\n",
      "Generating features for sexism: 100%|██████████| 911/911 [00:00<00:00, 3792.91it/s]\n",
      "Generating features for neither: 0it [00:00, ?it/s]\n",
      "Generating features for neither: 0it [00:00, ?it/s]\n",
      "Generating features for neither: 100%|██████████| 5850/5850 [00:01<00:00, 4012.06it/s]\n"
     ]
    }
   ],
   "source": [
    "from dataset_reader import DataSet, DataSplit\n",
    "from composite_dataset import CompositeDataset\n",
    "expert = DataSet('amateur_expert')\n",
    "e_racism, e_sexism, e_neither, e_both = [], [], [], []\n",
    "\n",
    "for item in expert.data:\n",
    "    if item['Annotation'].lower() == 'sexism':\n",
    "        e_sexism.append(item)\n",
    "    elif item['Annotation'].lower() == 'racism':\n",
    "        e_racism.append(item)\n",
    "    elif item['Annotation'].lower() == 'neither':\n",
    "        e_neither.append(item)\n",
    "    else:\n",
    "        # TODO Consider merging this into 'racism' to boost counts there\n",
    "        e_both.append(item)\n",
    "\n",
    "c = CompositeDataset()\n",
    "c.add_data(\"racism\", DataSplit(e_racism,train=0.0,dev=0.0))\n",
    "c.add_data(\"sexism\", DataSplit(e_sexism,train=0.0,dev=0.0))\n",
    "c.add_data(\"neither\", DataSplit(e_neither,train=0.0,dev=0.0))\n",
    "\n"
   ]
  },
  {
   "cell_type": "code",
   "execution_count": null,
   "metadata": {
    "collapsed": true
   },
   "outputs": [],
   "source": []
  }
 ],
 "metadata": {
  "anaconda-cloud": {},
  "kernelspec": {
   "display_name": "Python [conda root]",
   "language": "python",
   "name": "conda-root-py"
  },
  "language_info": {
   "codemirror_mode": {
    "name": "ipython",
    "version": 3
   },
   "file_extension": ".py",
   "mimetype": "text/x-python",
   "name": "python",
   "nbconvert_exporter": "python",
   "pygments_lexer": "ipython3",
   "version": "3.5.2"
  }
 },
 "nbformat": 4,
 "nbformat_minor": 1
}
